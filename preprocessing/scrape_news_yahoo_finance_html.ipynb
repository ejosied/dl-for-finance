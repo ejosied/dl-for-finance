{
 "cells": [
  {
   "cell_type": "markdown",
   "id": "decb70c1",
   "metadata": {},
   "source": [
    "# Scrape Text from Yahoo Finance News via HTML\n"
   ]
  },
  {
   "cell_type": "markdown",
   "id": "990e1ab0",
   "metadata": {},
   "source": [
    "## Import libraries"
   ]
  },
  {
   "cell_type": "code",
   "execution_count": 1,
   "id": "5aa692f6",
   "metadata": {},
   "outputs": [],
   "source": [
    "import pandas as pd\n",
    "import numpy as np\n",
    "from datetime import datetime\n",
    "import time\n",
    "import random\n",
    "import re\n",
    "import os\n",
    "\n",
    "import yfinance as yf\n",
    "\n",
    "import requests\n",
    "from bs4 import BeautifulSoup\n",
    "\n"
   ]
  },
  {
   "cell_type": "code",
   "execution_count": 2,
   "id": "557d4e7f",
   "metadata": {},
   "outputs": [
    {
     "name": "stdout",
     "output_type": "stream",
     "text": [
      "Last updated 2022-12-18\n"
     ]
    }
   ],
   "source": [
    "date_today = datetime.now().date()\n",
    "print(f'Last updated {date_today}')\n"
   ]
  },
  {
   "cell_type": "markdown",
   "id": "393cdc30",
   "metadata": {},
   "source": [
    "## Obtain index info and news from yfinance library"
   ]
  },
  {
   "cell_type": "code",
   "execution_count": 3,
   "id": "0f2cd4c5",
   "metadata": {},
   "outputs": [],
   "source": [
    "indices_2022_12_12 = ['MSFT', 'AAPL', 'GOOG', 'META', 'TSLA', 'SPY', 'NVDA', 'AMZN', 'COMP', 'FANG', '^GSPC']     # specify indices of interest\n",
    "indices_2022_12_13 = ['CSCO', 'WFC', 'C', 'JPM', 'BCS', 'MS', 'CS', 'HPQ', 'BAC', 'CRM', 'NKE', 'DOW', 'VOO', '^IXIC', 'DELL', 'INTC', 'ADBE', 'PYPL', 'IBM', 'GS', 'AXP', 'MA', 'V', 'ORCL']\n",
    "indices_2022_12_16_1 = ['LLY', 'SPOT', 'UA', 'NFLX', 'WRBY', 'TGT', 'WMT', 'FORD', 'DUOL', 'TM', 'HD', 'CVS', 'ZM', 'DIS', 'ADDYY', 'ARHS', 'GE', 'GM', 'PTON', 'LOW', 'JNJ', 'WBD', 'SHOP', 'PINS', 'RTX', 'BIRD', 'LULU', 'BA', 'PFE', 'PG', 'SBUX', 'COST']\n",
    "indices_2022_12_16_2 = ['CVX', 'ACI', 'SFM', 'AJRD', 'LMT', 'HBAN', 'SONY', 'HON', 'COF', 'MRNA', 'CRWD', 'FDX', 'RLLCF', 'CFG', 'VZ', 'KTOS', 'XOM', 'GD', 'VWAGY', 'MZDAY', 'APH', 'KR', 'COSM', 'FWONA', 'UPS', 'MDB', 'NTDOY', 'HMC', 'MAXR', 'CAT', 'SYF', 'KO', 'AZN', 'T', 'SHEL', 'FUJHY', 'NTIC', 'DNUT', 'PEP', 'CMG', 'NSANY', 'WMG', 'FOX', 'TTE', 'CMCSA', 'PNC', 'TMUS', 'NVAX', 'NOC', 'BO', 'BNTX', 'NVS', 'EA', 'TXT', 'FITB']\n",
    "indices_2022_12_17 = ['AMD', 'CZNC', 'XPEV', 'NKLA', 'BYDDY', 'LUMN', 'BSRR', 'CSWI', 'AGCO', 'FBIZ', 'LNN', 'CCBG', 'LI', 'EBTC', 'CFFI', 'DE', 'FELE', 'MBWM', 'NIO', 'RIVN', 'FNLC', 'EQBK']\n",
    "indices_2022_12_18 = ['RS', 'W', 'TAL', 'X', 'GOTU', 'DAL', 'UAL', 'SXC', 'AAL', 'LUV', 'ZEUS', 'CMC', 'TMST', 'JBLU', 'ALK', 'EXAS', 'SAVE', 'WFRD', 'SCHN', 'BKR']\n"
   ]
  },
  {
   "cell_type": "code",
   "execution_count": 4,
   "id": "4cb82500",
   "metadata": {},
   "outputs": [
    {
     "data": {
      "text/plain": [
       "144"
      ]
     },
     "execution_count": 4,
     "metadata": {},
     "output_type": "execute_result"
    }
   ],
   "source": [
    "prev_indices = indices_2022_12_12 + indices_2022_12_13 + indices_2022_12_16_1 + indices_2022_12_16_2 + indices_2022_12_17 + indices_2022_12_18\n",
    "len(prev_indices)\n"
   ]
  },
  {
   "cell_type": "markdown",
   "id": "5d12db9b",
   "metadata": {},
   "source": [
    "## Scrape news"
   ]
  },
  {
   "cell_type": "code",
   "execution_count": 5,
   "id": "30c21ba4",
   "metadata": {},
   "outputs": [],
   "source": [
    "def load_text(dr, old_indices):\n",
    "    all_urls = {}\n",
    "    files = os.listdir(dr)\n",
    "    new_indices = []\n",
    "    for file in files:\n",
    "        if not file.endswith('.txt'):\n",
    "            continue\n",
    "        index = file.split('_')[0].upper()\n",
    "        if index in prev_indices:\n",
    "            print(f'\\tskipping {index}')\n",
    "            continue\n",
    "            \n",
    "        print(file)\n",
    "        urls = []\n",
    "        with open(os.path.join(dr, file)) as f:\n",
    "            txt_soup = f.read()\n",
    "            h3s = txt_soup.split('<h3 class=\"Mb(5px)\">')\n",
    "            for h3 in h3s:\n",
    "                if h3.startswith('<a'):\n",
    "                    link = h3.split('href=\"')[1].split('\"')[0]\n",
    "                    urls.append(f'http://www.finance.yahoo.com{link}')\n",
    "        count = 0\n",
    "        index_key = index\n",
    "        while index in all_urls.keys():\n",
    "            index_key = f'{index}_{count}'\n",
    "        all_urls[index_key] = urls\n",
    "        \n",
    "        new_indices.append(index)\n",
    "        \n",
    "    return all_urls, new_indices\n"
   ]
  },
  {
   "cell_type": "code",
   "execution_count": 6,
   "id": "bb865e2f",
   "metadata": {
    "scrolled": false
   },
   "outputs": [
    {
     "name": "stdout",
     "output_type": "stream",
     "text": [
      "\tskipping CVX\n",
      "\tskipping LLY\n",
      "\tskipping SPOT\n",
      "rs_2022-12-18.txt\n",
      "\tskipping ACI\n",
      "\tskipping COMP\n",
      "\tskipping UA\n",
      "w_2022-12-18.txt\n",
      "\tskipping SFM\n",
      "\tskipping NFLX\n",
      "\tskipping AJRD\n",
      "\tskipping LMT\n",
      "tal_2022-12-18.txt\n",
      "\tskipping WFC\n",
      "x_2022-12-18.txt\n",
      "\tskipping HBAN\n",
      "\tskipping WRBY\n",
      "\tskipping CSCO\n",
      "\tskipping SONY\n",
      "\tskipping TGT\n",
      "\tskipping AMD\n",
      "\tskipping WFC\n",
      "\tskipping C\n",
      "\tskipping CZNC\n",
      "\tskipping WMT\n",
      "\tskipping XPEV\n",
      "\tskipping JPM\n",
      "\tskipping FORD\n",
      "\tskipping DUOL\n",
      "gotu_2022-12-18.txt\n",
      "\tskipping HON\n",
      "\tskipping NKLA\n",
      "\tskipping BYDDY\n",
      "\tskipping COF\n",
      "dal_2022-12-18.txt\n",
      "\tskipping BCS\n",
      "\tskipping TM\n",
      "\tskipping MS\n",
      "\tskipping MRNA\n",
      "\tskipping CRWD\n",
      "\tskipping GOOG\n",
      "ual_2022-12-18.txt\n",
      "\tskipping HD\n",
      "\tskipping CVS\n",
      "sxc_2022-12-18.txt\n",
      "aal_2022-12-18.txt\n",
      "\tskipping META\n",
      "\tskipping FDX\n",
      "\tskipping CS\n",
      "\tskipping ZM\n",
      "\tskipping DIS\n",
      "\tskipping RLLCF\n",
      "\tskipping CFG\n",
      "luv_2022-12-18.txt\n",
      "\tskipping HPQ\n",
      "\tskipping VZ\n",
      "\tskipping LUMN\n",
      "\tskipping BSRR\n",
      "\tskipping KTOS\n",
      "zeus_2022-12-18.txt\n",
      "\tskipping BAC\n",
      "\tskipping XOM\n",
      "\tskipping GD\n",
      "\tskipping ADDYY\n",
      "\tskipping ARHS\n",
      "\tskipping VWAGY\n",
      "\tskipping GE\n",
      "\tskipping FANG\n",
      "\tskipping MZDAY\n",
      "\tskipping CRM\n",
      "\tskipping APH\n",
      "\tskipping KR\n",
      "\tskipping CSWI\n",
      "\tskipping COSM\n",
      "\tskipping AGCO\n",
      "\tskipping NKE\n",
      "\tskipping GM\n",
      "\tskipping FBIZ\n",
      "\tskipping SPY\n",
      "cmc_2022-12-18.txt\n",
      "\tskipping FWONA\n",
      "\tskipping LNN\n",
      "tmst_2022-12-18.txt\n",
      "\tskipping DOW\n",
      "\tskipping CCBG\n",
      "\tskipping VOO\n",
      "jblu_2022-12-18.txt\n",
      "\tskipping UPS\n",
      "alk_2022-12-18.txt\n",
      "\tskipping MDB\n",
      "\tskipping NTDOY\n",
      "\tskipping HMC\n",
      "\tskipping PTON\n",
      "\tskipping ^IXIC\n",
      "\tskipping DELL\n",
      "\tskipping LOW\n",
      "\tskipping JNJ\n",
      "\tskipping WBD\n",
      "\tskipping AMZN\n",
      "\tskipping MAXR\n",
      "\tskipping CAT\n",
      "\tskipping INTC\n",
      "exas_2022-12-18.txt\n",
      "\tskipping ^GSPC\n",
      "\tskipping ADBE\n",
      "\tskipping PYPL\n",
      "\tskipping SHOP\n",
      "\tskipping NVDA\n",
      "\tskipping PINS\n",
      "\tskipping SYF\n",
      "\tskipping KO\n",
      "\tskipping AZN\n",
      "\tskipping T\n",
      "\tskipping SHEL\n",
      "\tskipping FUJHY\n",
      "\tskipping LI\n",
      "\tskipping MSFT\n",
      "\tskipping NTIC\n",
      "save_2022-12-18.txt\n",
      "\tskipping DNUT\n",
      "\tskipping PEP\n",
      "\tskipping RTX\n",
      "\tskipping BIRD\n",
      "\tskipping EBTC\n",
      "\tskipping CFFI\n",
      "\tskipping DE\n",
      "\tskipping FELE\n",
      "\tskipping CMG\n",
      "\tskipping NSANY\n",
      "wfrd_2022-12-18.txt\n",
      "\tskipping WMG\n",
      "\tskipping LULU\n",
      "\tskipping IBM\n",
      "\tskipping BA\n",
      "\tskipping TSLA\n",
      "\tskipping FOX\n",
      "\tskipping PFE\n",
      "\tskipping PG\n",
      "\tskipping GS\n",
      "\tskipping TTE\n",
      "\tskipping CMCSA\n",
      "\tskipping PNC\n",
      "\tskipping TMUS\n",
      "\tskipping AXP\n",
      "\tskipping MA\n",
      "\tskipping NVAX\n",
      "\tskipping SBUX\n",
      "\tskipping MBWM\n",
      "\tskipping NIO\n",
      "\tskipping NOC\n",
      "\tskipping V\n",
      "\tskipping BO\n",
      "schn_2022-12-18.txt\n",
      "\tskipping COST\n",
      "\tskipping BNTX\n",
      "\tskipping NVS\n",
      "\tskipping ORCL\n",
      "\tskipping RIVN\n",
      "\tskipping AAPL\n",
      "bkr_2022-12-18.txt\n",
      "\tskipping EA\n",
      "\tskipping TXT\n",
      "\tskipping FNLC\n",
      "\tskipping FITB\n",
      "\tskipping EQBK\n"
     ]
    }
   ],
   "source": [
    "soup_dir = '../data/htmls'\n",
    "all_urls, indices_2022_12_13 = load_text(soup_dir, old_indices=prev_indices)\n"
   ]
  },
  {
   "cell_type": "code",
   "execution_count": 7,
   "id": "65a5d210",
   "metadata": {},
   "outputs": [
    {
     "name": "stdout",
     "output_type": "stream",
     "text": [
      "Number of urls found: 2491\n",
      "RS\n",
      "\t http://www.finance.yahoo.com/news/3-reasons-why-reliance-steel-174505323.html\n",
      "\t http://www.finance.yahoo.com/news/reliance-steel-rs-forms-hammer-145502989.html\n",
      "W\n",
      "\t http://www.finance.yahoo.com/m/80039d6d-86bb-38e5-bb3f-c453bae126e1/where-will-wayfair-stock-be.html\n",
      "\t http://www.finance.yahoo.com/m/df19f68b-57b0-3f82-9be3-c8a355b8454a/wayfair-gets-a-new-bull-it.html\n",
      "TAL\n",
      "\t http://www.finance.yahoo.com/news/tal-education-group-tal-stock-144002474.html\n",
      "\t http://www.finance.yahoo.com/news/4-promising-chinese-stocks-buy-130101039.html\n",
      "X\n",
      "\t http://www.finance.yahoo.com/m/1e370eb5-7ca6-3ae0-91cc-6f3d05384e94/stocks-extend-slump-twitter-.html\n",
      "\t http://www.finance.yahoo.com/video/stocks-moving-hours-adobe-united-220540829.html\n",
      "GOTU\n",
      "\t http://www.finance.yahoo.com/news/gaotu-techedu-announces-third-quarter-060000154.html\n",
      "\t http://www.finance.yahoo.com/news/gaotu-techedu-announces-receipt-nyse-123000091.html\n",
      "DAL\n",
      "\t http://www.finance.yahoo.com/m/062b8b5e-81cf-37e4-91d3-35509519a1b7/barron%E2%80%99s-10-favorite-stocks.html\n",
      "\t http://www.finance.yahoo.com/news/delta-air-lines-dal-stock-230011253.html\n",
      "UAL\n",
      "\t http://www.finance.yahoo.com/news/united-airlines-ual-stock-moves-230011803.html\n",
      "\t http://www.finance.yahoo.com/m/aad463ce-7e04-32ef-a937-c2b3ec051876/why-united-airlines-stock-was.html\n",
      "SXC\n",
      "\t http://www.finance.yahoo.com/news/investors-undervaluing-suncoke-energy-inc-172715619.html\n",
      "\t http://www.finance.yahoo.com/news/theres-lot-suncoke-energys-nyse-120732683.html\n",
      "AAL\n",
      "\t http://www.finance.yahoo.com/news/1-mesa-says-halt-american-031505307.html\n",
      "\t http://www.finance.yahoo.com/news/american-airlines-ending-agreement-regional-013001445.html\n",
      "LUV\n",
      "\t http://www.finance.yahoo.com/m/83c27362-b205-3f8b-b89c-4b58e82c5994/southwest-airlines-solves.html\n",
      "\t http://www.finance.yahoo.com/news/15-most-overrated-companies-brands-161725924.html\n",
      "ZEUS\n",
      "\t http://www.finance.yahoo.com/news/olympic-steel-names-michael-tookey-133000491.html\n",
      "\t http://www.finance.yahoo.com/news/nucor-nue-sees-lower-q4-114011829.html\n",
      "CMC\n",
      "\t http://www.finance.yahoo.com/news/commercial-metals-company-nyse-cmc-124823776.html\n",
      "\t http://www.finance.yahoo.com/news/nucor-nue-sees-lower-q4-114011829.html\n",
      "TMST\n",
      "\t http://www.finance.yahoo.com/news/strong-financial-prospects-force-driving-121651021.html\n",
      "\t http://www.finance.yahoo.com/news/timkensteel-third-quarter-2022-earnings-104207915.html\n",
      "JBLU\n",
      "\t http://www.finance.yahoo.com/video/stocks-moving-hours-tesla-disney-214657072.html\n",
      "\t http://www.finance.yahoo.com/m/d7afa935-e3f1-3e38-9807-b8288ac3fd99/nbcuniversal%E2%80%99s-peacock-named.html\n",
      "ALK\n",
      "\t http://www.finance.yahoo.com/news/airline-stock-roundup-dal-alks-141102356.html\n",
      "\t http://www.finance.yahoo.com/news/alaska-air-alk-tweaks-q4-165204986.html\n",
      "EXAS\n",
      "\t http://www.finance.yahoo.com/m/dd3c02a5-c440-37a2-b1b9-b4371ac21a0c/guardant-health-s-shares.html\n",
      "\t http://www.finance.yahoo.com/video/guardant-health-colorectal-cancer-test-213645344.html\n",
      "SAVE\n",
      "\t http://www.finance.yahoo.com/video/stocks-moving-hours-tesla-disney-214657072.html\n",
      "\t http://www.finance.yahoo.com/news/spirit-airlines-l3harris-pathway-program-140000008.html\n",
      "WFRD\n",
      "\t http://www.finance.yahoo.com/news/weatherford-announces-upgrade-credit-rating-133000287.html\n",
      "\t http://www.finance.yahoo.com/news/weatherford-partners-ardyne-bolstering-plug-213000226.html\n",
      "SCHN\n",
      "\t http://www.finance.yahoo.com/news/schnitzer-steel-industries-nasdaq-schn-122941824.html\n",
      "\t http://www.finance.yahoo.com/news/schnitzer-steel-highlights-achievements-people-133000239.html\n",
      "BKR\n",
      "\t http://www.finance.yahoo.com/m/1c08bf1b-91fd-3bd8-9ca7-cb76edfc802f/baker-hughes-data-show-a.html\n",
      "\t http://www.finance.yahoo.com/news/baker-hughes-recognized-forbes-one-131000535.html\n"
     ]
    }
   ],
   "source": [
    "print(f'Number of urls found: {np.sum([len(all_urls[idx]) for idx in all_urls.keys()])}')\n",
    "for index in all_urls.keys():\n",
    "    print(index)\n",
    "    for link in all_urls[index][:2]:\n",
    "        print('\\t', link)\n",
    "    "
   ]
  },
  {
   "cell_type": "code",
   "execution_count": 8,
   "id": "fb5d97a6",
   "metadata": {},
   "outputs": [
    {
     "name": "stdout",
     "output_type": "stream",
     "text": [
      "['RS', 'W', 'TAL', 'X', 'GOTU', 'DAL', 'UAL', 'SXC', 'AAL', 'LUV', 'ZEUS', 'CMC', 'TMST', 'JBLU', 'ALK', 'EXAS', 'SAVE', 'WFRD', 'SCHN', 'BKR']\n"
     ]
    }
   ],
   "source": [
    "# display this round of indices for future purposes\n",
    "print(f\"\"\"['{\"', '\".join(all_urls.keys())}']\"\"\")\n"
   ]
  },
  {
   "cell_type": "code",
   "execution_count": 9,
   "id": "3fb00620",
   "metadata": {},
   "outputs": [],
   "source": [
    "# funtion to scrape body text, headlines, and puslish date from approved URLs\n",
    "def scrape_news(url, columns=['news', 'headlines', 'raw_publish_date', 'publish_date'], verbose=0):\n",
    "    if verbose > 0:\n",
    "        print(url)\n",
    "        \n",
    "    # send request\n",
    "    response = requests.get(url)\n",
    "    if verbose > 0:\n",
    "        print(response.status_code, response.reason, '\\n')\n",
    "\n",
    "    if response.status_code != 200:\n",
    "        return\n",
    "   \n",
    "    # valid response; proceed\n",
    "    soup = BeautifulSoup(response.text)\n",
    "    \n",
    "    text = soup.find('div', attrs={'class': 'caas-body'}).text.replace('\\xa0', ' ')     # obtain body text\n",
    "    headlines = soup.find_all('h1')     # obtain headlines and titles\n",
    "    for n, head in enumerate(headlines):\n",
    "        headlines[n] = head.text\n",
    "    raw_publish_date = soup.find('time').text     # obtain time of publish\n",
    "    try:\n",
    "        publish_date = datetime.strptime(raw_publish_date, '%B %d, %Y, %I:%M %p')     # obtain processed datetime\n",
    "    except:\n",
    "        publish_date = None\n",
    "            \n",
    "    return dict(zip(columns, [text, headlines, raw_publish_date, publish_date]))\n"
   ]
  },
  {
   "cell_type": "code",
   "execution_count": 10,
   "id": "c3dfcd6b",
   "metadata": {
    "scrolled": false
   },
   "outputs": [
    {
     "name": "stdout",
     "output_type": "stream",
     "text": [
      "--RS--\t\tyahoo_finance_rs_2022-12-18.csv\n",
      "--W--\t\tyahoo_finance_w_2022-12-18.csv\n",
      "--TAL--\t\tyahoo_finance_tal_2022-12-18.csv\n",
      "--X--\t\tyahoo_finance_x_2022-12-18.csv\n",
      "--GOTU--\t\tyahoo_finance_gotu_2022-12-18.csv\n",
      "--DAL--\t\tyahoo_finance_dal_2022-12-18.csv\n",
      "--UAL--\t\tyahoo_finance_ual_2022-12-18.csv\n",
      "--SXC--\t\tyahoo_finance_sxc_2022-12-18.csv\n",
      "--AAL--\t\tyahoo_finance_aal_2022-12-18.csv\n",
      "--LUV--\t\tyahoo_finance_luv_2022-12-18.csv\n",
      "--ZEUS--\t\tyahoo_finance_zeus_2022-12-18.csv\n",
      "--CMC--\t\tyahoo_finance_cmc_2022-12-18.csv\n",
      "--TMST--\t\tyahoo_finance_tmst_2022-12-18.csv\n",
      "--JBLU--\t\tyahoo_finance_jblu_2022-12-18.csv\n",
      "--ALK--\t\tyahoo_finance_alk_2022-12-18.csv\n",
      "--EXAS--\t\tyahoo_finance_exas_2022-12-18.csv\n",
      "--SAVE--\t\tyahoo_finance_save_2022-12-18.csv\n",
      "--WFRD--\t\tyahoo_finance_wfrd_2022-12-18.csv\n",
      "--SCHN--\t\tyahoo_finance_schn_2022-12-18.csv\n",
      "--BKR--\t\tyahoo_finance_bkr_2022-12-18.csv\n"
     ]
    }
   ],
   "source": [
    "save_path = '../data/scraped_news_from_html'\n",
    "verbose = 0\n",
    "for index in all_urls.keys():\n",
    "    print(f'--{index}--', end = '\\t\\t')\n",
    "    scrape_dict = []\n",
    "    for link in all_urls[index]:\n",
    "        scrape_results = scrape_news(url=link, verbose=verbose)\n",
    "        if scrape_results is not None:\n",
    "            scrape_results['scrape_date'] = date_today\n",
    "            scrape_results['index'] = index\n",
    "            scrape_results['url'] = link\n",
    "            scrape_results['related_tickers'] = [index]\n",
    "            scrape_dict.append(scrape_results)\n",
    "            \n",
    "    # save the results for this index\n",
    "    save_file = f'yahoo_finance_{index.lower()}_{date_today}.csv'\n",
    "    scrape_df = pd.DataFrame(scrape_dict, columns=['scrape_date', 'index', 'url', 'news', 'headlines', 'raw_publish_date', 'publish_date', 'related_tickers'])\n",
    "    scrape_df.to_csv(os.path.join(save_path, save_file), index=False)\n",
    "    print(save_file)\n",
    "        "
   ]
  },
  {
   "cell_type": "code",
   "execution_count": 11,
   "id": "2fdfcf7e",
   "metadata": {},
   "outputs": [
    {
     "name": "stdout",
     "output_type": "stream",
     "text": [
      "Done\n"
     ]
    }
   ],
   "source": [
    "print('Done')"
   ]
  },
  {
   "cell_type": "code",
   "execution_count": null,
   "id": "fe71efb0",
   "metadata": {},
   "outputs": [],
   "source": []
  }
 ],
 "metadata": {
  "kernelspec": {
   "display_name": "Python 3 (ipykernel)",
   "language": "python",
   "name": "python3"
  },
  "language_info": {
   "codemirror_mode": {
    "name": "ipython",
    "version": 3
   },
   "file_extension": ".py",
   "mimetype": "text/x-python",
   "name": "python",
   "nbconvert_exporter": "python",
   "pygments_lexer": "ipython3",
   "version": "3.9.7"
  }
 },
 "nbformat": 4,
 "nbformat_minor": 5
}
